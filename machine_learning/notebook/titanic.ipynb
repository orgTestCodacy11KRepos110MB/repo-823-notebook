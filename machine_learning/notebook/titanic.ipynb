{
 "cells": [
  {
   "cell_type": "markdown",
   "metadata": {},
   "source": [
    "## Kaggle - 泰坦尼克号\n",
    "\n",
    "\n",
    "\n",
    "\n",
    "Kaggle 链接： [Titanic: Machine Learning from Disaster](https://www.kaggle.com/c/titanic)\n",
    "\n",
    "\n",
    "\n",
    "这虽然是一个入门级别的任务，但完整做完后可以学到以下技巧：\n",
    "\n",
    "1. 如何处理缺失数据\n",
    "2. 数据预处理流程\n",
    "3. 如何处理连续值的属性\n",
    "4. 如何处理离散值的属性\n",
    "\n",
    "另外，还可以实践一下机器学习任务一般流程：\n",
    "\n",
    "1. 搞清楚问题的定义\n",
    "2. 获取数据\n",
    "3. 分析、清洗数据\n",
    "4. 建模尝试解决这些问题\n",
    "5. 优化模型，并完成技术报告"
   ]
  },
  {
   "cell_type": "code",
   "execution_count": 1,
   "metadata": {},
   "outputs": [],
   "source": [
    "# 数据分析\n",
    "import pandas as pd\n",
    "import numpy as np\n",
    "\n",
    "# 可视化\n",
    "import matplotlib.pyplot as plt\n",
    "import seaborn as sns\n",
    "%matplotlib inline\n",
    "\n",
    "import warnings\n",
    "warnings.filterwarnings('ignore')"
   ]
  },
  {
   "cell_type": "markdown",
   "metadata": {},
   "source": [
    "## 获取数据\n",
    "\n",
    "1992 年 Titanic 号在大西洋中不幸撞上冰山，数小时候沉入海底。Titanic 号上乘客和工作人员一共  2224 人，其中 1502 人丧生。这个数据集中包含了部分乘客的相关信息，目的是训练一个二分类器，来根据乘客的相关信息判断该乘客是否存活。这里使用的数据可以从 Kaggle 下载到。"
   ]
  },
  {
   "cell_type": "code",
   "execution_count": 2,
   "metadata": {},
   "outputs": [],
   "source": [
    "train = pd.read_csv('../data/titanic/train.csv')\n",
    "test = pd.read_csv('../data/titanic/test.csv')\n",
    "train_clone = train.copy(deep=True)"
   ]
  },
  {
   "cell_type": "markdown",
   "metadata": {},
   "source": [
    "## 观察数据\n",
    "\n",
    "获取到数据后，首先需要观察数据，对数据建立一个初步的认识。明确样本中有哪些特征，各个特征的含义，数据有没有缺失，等等。"
   ]
  },
  {
   "cell_type": "code",
   "execution_count": 3,
   "metadata": {},
   "outputs": [
    {
     "data": {
      "text/html": [
       "<div>\n",
       "<style scoped>\n",
       "    .dataframe tbody tr th:only-of-type {\n",
       "        vertical-align: middle;\n",
       "    }\n",
       "\n",
       "    .dataframe tbody tr th {\n",
       "        vertical-align: top;\n",
       "    }\n",
       "\n",
       "    .dataframe thead th {\n",
       "        text-align: right;\n",
       "    }\n",
       "</style>\n",
       "<table border=\"1\" class=\"dataframe\">\n",
       "  <thead>\n",
       "    <tr style=\"text-align: right;\">\n",
       "      <th></th>\n",
       "      <th>PassengerId</th>\n",
       "      <th>Survived</th>\n",
       "      <th>Pclass</th>\n",
       "      <th>Name</th>\n",
       "      <th>Sex</th>\n",
       "      <th>Age</th>\n",
       "      <th>SibSp</th>\n",
       "      <th>Parch</th>\n",
       "      <th>Ticket</th>\n",
       "      <th>Fare</th>\n",
       "      <th>Cabin</th>\n",
       "      <th>Embarked</th>\n",
       "    </tr>\n",
       "  </thead>\n",
       "  <tbody>\n",
       "    <tr>\n",
       "      <th>0</th>\n",
       "      <td>1</td>\n",
       "      <td>0</td>\n",
       "      <td>3</td>\n",
       "      <td>Braund, Mr. Owen Harris</td>\n",
       "      <td>male</td>\n",
       "      <td>22.0</td>\n",
       "      <td>1</td>\n",
       "      <td>0</td>\n",
       "      <td>A/5 21171</td>\n",
       "      <td>7.2500</td>\n",
       "      <td>NaN</td>\n",
       "      <td>S</td>\n",
       "    </tr>\n",
       "    <tr>\n",
       "      <th>1</th>\n",
       "      <td>2</td>\n",
       "      <td>1</td>\n",
       "      <td>1</td>\n",
       "      <td>Cumings, Mrs. John Bradley (Florence Briggs Th...</td>\n",
       "      <td>female</td>\n",
       "      <td>38.0</td>\n",
       "      <td>1</td>\n",
       "      <td>0</td>\n",
       "      <td>PC 17599</td>\n",
       "      <td>71.2833</td>\n",
       "      <td>C85</td>\n",
       "      <td>C</td>\n",
       "    </tr>\n",
       "    <tr>\n",
       "      <th>2</th>\n",
       "      <td>3</td>\n",
       "      <td>1</td>\n",
       "      <td>3</td>\n",
       "      <td>Heikkinen, Miss. Laina</td>\n",
       "      <td>female</td>\n",
       "      <td>26.0</td>\n",
       "      <td>0</td>\n",
       "      <td>0</td>\n",
       "      <td>STON/O2. 3101282</td>\n",
       "      <td>7.9250</td>\n",
       "      <td>NaN</td>\n",
       "      <td>S</td>\n",
       "    </tr>\n",
       "    <tr>\n",
       "      <th>3</th>\n",
       "      <td>4</td>\n",
       "      <td>1</td>\n",
       "      <td>1</td>\n",
       "      <td>Futrelle, Mrs. Jacques Heath (Lily May Peel)</td>\n",
       "      <td>female</td>\n",
       "      <td>35.0</td>\n",
       "      <td>1</td>\n",
       "      <td>0</td>\n",
       "      <td>113803</td>\n",
       "      <td>53.1000</td>\n",
       "      <td>C123</td>\n",
       "      <td>S</td>\n",
       "    </tr>\n",
       "    <tr>\n",
       "      <th>4</th>\n",
       "      <td>5</td>\n",
       "      <td>0</td>\n",
       "      <td>3</td>\n",
       "      <td>Allen, Mr. William Henry</td>\n",
       "      <td>male</td>\n",
       "      <td>35.0</td>\n",
       "      <td>0</td>\n",
       "      <td>0</td>\n",
       "      <td>373450</td>\n",
       "      <td>8.0500</td>\n",
       "      <td>NaN</td>\n",
       "      <td>S</td>\n",
       "    </tr>\n",
       "  </tbody>\n",
       "</table>\n",
       "</div>"
      ],
      "text/plain": [
       "   PassengerId  Survived  Pclass  \\\n",
       "0            1         0       3   \n",
       "1            2         1       1   \n",
       "2            3         1       3   \n",
       "3            4         1       1   \n",
       "4            5         0       3   \n",
       "\n",
       "                                                Name     Sex   Age  SibSp  \\\n",
       "0                            Braund, Mr. Owen Harris    male  22.0      1   \n",
       "1  Cumings, Mrs. John Bradley (Florence Briggs Th...  female  38.0      1   \n",
       "2                             Heikkinen, Miss. Laina  female  26.0      0   \n",
       "3       Futrelle, Mrs. Jacques Heath (Lily May Peel)  female  35.0      1   \n",
       "4                           Allen, Mr. William Henry    male  35.0      0   \n",
       "\n",
       "   Parch            Ticket     Fare Cabin Embarked  \n",
       "0      0         A/5 21171   7.2500   NaN        S  \n",
       "1      0          PC 17599  71.2833   C85        C  \n",
       "2      0  STON/O2. 3101282   7.9250   NaN        S  \n",
       "3      0            113803  53.1000  C123        S  \n",
       "4      0            373450   8.0500   NaN        S  "
      ]
     },
     "execution_count": 3,
     "metadata": {},
     "output_type": "execute_result"
    }
   ],
   "source": [
    "train.head(5)"
   ]
  },
  {
   "cell_type": "markdown",
   "metadata": {},
   "source": [
    "每一行表示一个样本，在这里就是一个乘客的信息。每一列是样本的一项特征，在这里每个样本有 12 个特征，其含义如下：\n",
    "    \n",
    "- PassengerId: 乘客的编号\n",
    "- Survived: 是否存活\n",
    "- Pclass: 船舱等级，取值范围 1,2,3\n",
    "- Name: 姓名\n",
    "- Sex: 性别\n",
    "- Age: 年龄\n",
    "- SibSp: 兄弟姐妹数量\n",
    "- Parch: 父母和孩子数量\n",
    "- Ticket: 船票编号\n",
    "- Fare: 票价\n",
    "- Cabin: 船舱号\n",
    "- Embarked: 登船的港口，泰坦尼克号在不同的港口停靠，不同的港口都有乘客登船 (C=Cherbourg, Q=Queenstown, S=Southampton)\n",
    "\n"
   ]
  },
  {
   "cell_type": "code",
   "execution_count": 4,
   "metadata": {},
   "outputs": [
    {
     "name": "stdout",
     "output_type": "stream",
     "text": [
      "<class 'pandas.core.frame.DataFrame'>\n",
      "RangeIndex: 891 entries, 0 to 890\n",
      "Data columns (total 12 columns):\n",
      "PassengerId    891 non-null int64\n",
      "Survived       891 non-null int64\n",
      "Pclass         891 non-null int64\n",
      "Name           891 non-null object\n",
      "Sex            891 non-null object\n",
      "Age            714 non-null float64\n",
      "SibSp          891 non-null int64\n",
      "Parch          891 non-null int64\n",
      "Ticket         891 non-null object\n",
      "Fare           891 non-null float64\n",
      "Cabin          204 non-null object\n",
      "Embarked       889 non-null object\n",
      "dtypes: float64(2), int64(5), object(5)\n",
      "memory usage: 83.6+ KB\n",
      "None\n",
      "----------------------------------------\n",
      "<class 'pandas.core.frame.DataFrame'>\n",
      "RangeIndex: 418 entries, 0 to 417\n",
      "Data columns (total 11 columns):\n",
      "PassengerId    418 non-null int64\n",
      "Pclass         418 non-null int64\n",
      "Name           418 non-null object\n",
      "Sex            418 non-null object\n",
      "Age            332 non-null float64\n",
      "SibSp          418 non-null int64\n",
      "Parch          418 non-null int64\n",
      "Ticket         418 non-null object\n",
      "Fare           417 non-null float64\n",
      "Cabin          91 non-null object\n",
      "Embarked       418 non-null object\n",
      "dtypes: float64(2), int64(4), object(5)\n",
      "memory usage: 36.0+ KB\n",
      "None\n"
     ]
    }
   ],
   "source": [
    "print(train.info())\n",
    "print(\"-\" * 40)\n",
    "print(test.info())"
   ]
  },
  {
   "cell_type": "markdown",
   "metadata": {},
   "source": [
    "使用 `info()` 方法可以从整体上对数据建立一些认识，可以知道数据有多少行，每个属性的数据类型，是否存在缺失值。从上面结果看出，训练集中有 891 个样本，其中 `Age`, `Cabin`, `Embarked` 三个属性存在缺失值。测试集中 Age Fare Cabin 三个属性存在缺失值。"
   ]
  },
  {
   "cell_type": "markdown",
   "metadata": {},
   "source": [
    "## 分析数据\n",
    "\n",
    "样本中 `PassengerId`, `Ticket` 和 `Cabin` 在此处感觉都没有用的信息，因为虽然船票编号和船舱编号可能决定船舱位置，但已经有相应的字段来说明这些隐含的信息了，所以决定去除这三个字段。"
   ]
  },
  {
   "cell_type": "markdown",
   "metadata": {},
   "source": [
    "### 幸存比例\n",
    "\n",
    "训练数据显示，只有 38.4% 的人幸存。即有 61.6% 的人丧生，因此我们的模型就算预测所有人的丧生，也能得到越 61% 的准确率。"
   ]
  },
  {
   "cell_type": "code",
   "execution_count": 5,
   "metadata": {},
   "outputs": [
    {
     "data": {
      "text/plain": [
       "0.3838383838383838"
      ]
     },
     "execution_count": 5,
     "metadata": {},
     "output_type": "execute_result"
    }
   ],
   "source": [
    "train['Survived'].mean()"
   ]
  },
  {
   "cell_type": "markdown",
   "metadata": {},
   "source": [
    "### Sex\n",
    "\n",
    "观察性别与存活与否的关系："
   ]
  },
  {
   "cell_type": "code",
   "execution_count": 6,
   "metadata": {},
   "outputs": [
    {
     "data": {
      "text/plain": [
       "<matplotlib.axes._subplots.AxesSubplot at 0x7fd13d110940>"
      ]
     },
     "execution_count": 6,
     "metadata": {},
     "output_type": "execute_result"
    },
    {
     "data": {
      "image/png": "[encoded data removed]",
      "text/plain": [
       "<Figure size 432x288 with 1 Axes>"
      ]
     },
     "metadata": {
      "needs_background": "light"
     },
     "output_type": "display_data"
    }
   ],
   "source": [
    "sns.barplot(x='Sex',y='Survived',data=train)"
   ]
  },
  {
   "cell_type": "markdown",
   "metadata": {},
   "source": [
    "可见，性别与幸存率有很大关系。"
   ]
  },
  {
   "cell_type": "markdown",
   "metadata": {},
   "source": [
    "### Age\n",
    "\n",
    "年龄是连续值，不适合直接作为特征，需要将将其分段，划分为不同年龄的范围。这里我们将年龄划分为 5 个段，大约 15 岁一个段比较合适。"
   ]
  },
  {
   "cell_type": "code",
   "execution_count": 7,
   "metadata": {},
   "outputs": [
    {
     "data": {
      "text/plain": [
       "(0.42, 80.0)"
      ]
     },
     "execution_count": 7,
     "metadata": {},
     "output_type": "execute_result"
    }
   ],
   "source": [
    "train['Age'].min(), train['Age'].max()"
   ]
  },
  {
   "cell_type": "code",
   "execution_count": 8,
   "metadata": {},
   "outputs": [
    {
     "data": {
      "text/plain": [
       "1    326\n",
       "2    202\n",
       "0     83\n",
       "3     81\n",
       "4     22\n",
       "Name: AgeGroup, dtype: int64"
      ]
     },
     "execution_count": 8,
     "metadata": {},
     "output_type": "execute_result"
    }
   ],
   "source": [
    "train['AgeGroup'] = pd.cut(train['Age'], bins=[0, 15, 30, 45, 60, np.inf], labels=range(5))\n",
    "train['AgeGroup'].value_counts()"
   ]
  },
  {
   "cell_type": "code",
   "execution_count": 9,
   "metadata": {},
   "outputs": [
    {
     "data": {
      "text/plain": [
       "<matplotlib.axes._subplots.AxesSubplot at 0x7fd13cdfe710>"
      ]
     },
     "execution_count": 9,
     "metadata": {},
     "output_type": "execute_result"
    },
    {
     "data": {
      "image/png": "[encoded data removed]",
      "text/plain": [
       "<Figure size 432x288 with 1 Axes>"
      ]
     },
     "metadata": {
      "needs_background": "light"
     },
     "output_type": "display_data"
    }
   ],
   "source": [
    "sns.barplot(x='AgeGroup',y='Survived',data=train)"
   ]
  },
  {
   "cell_type": "markdown",
   "metadata": {},
   "source": [
    "不同年龄段的幸存率存在差异，老年人幸存率很低，小孩幸存率则相对高一些。"
   ]
  },
  {
   "cell_type": "markdown",
   "metadata": {},
   "source": [
    "### Pclass\n",
    "\n",
    "船舱等级（Pclass）可取值为：\n",
    "\n",
    "- 1 (Upper)\n",
    "- 2 (Middle) \n",
    "- 3 (Lower)\n",
    "\n",
    "\n",
    "船舱等级对幸存与否有很大影响，船舱的等级可能和距离甲板的距离有关，而距离甲板越近的船舱越有机会逃生。"
   ]
  },
  {
   "cell_type": "code",
   "execution_count": 10,
   "metadata": {},
   "outputs": [
    {
     "data": {
      "text/plain": [
       "<matplotlib.axes._subplots.AxesSubplot at 0x7fd13cd8aa90>"
      ]
     },
     "execution_count": 10,
     "metadata": {},
     "output_type": "execute_result"
    },
    {
     "data": {
      "image/png": "[encoded data removed]",
      "text/plain": [
       "<Figure size 432x288 with 1 Axes>"
      ]
     },
     "metadata": {
      "needs_background": "light"
     },
     "output_type": "display_data"
    }
   ],
   "source": [
    "sns.barplot(x='Pclass',y='Survived',data=train)"
   ]
  },
  {
   "cell_type": "markdown",
   "metadata": {},
   "source": [
    "可见船舱等级（Pclass）确实对幸存与否影响很大，不同船舱等级对应的幸存率有明显差异。"
   ]
  },
  {
   "cell_type": "markdown",
   "metadata": {},
   "source": [
    "### Fare\n",
    "\n",
    "票价也是连续值，需要将其分桶，转为价格区间，可以先观察一下票价分布情况："
   ]
  },
  {
   "cell_type": "code",
   "execution_count": 11,
   "metadata": {},
   "outputs": [
    {
     "data": {
      "text/plain": [
       "[<matplotlib.lines.Line2D at 0x7fd13cca1710>]"
      ]
     },
     "execution_count": 11,
     "metadata": {},
     "output_type": "execute_result"
    },
    {
     "data": {
      "image/png": "[encoded data removed]",
      "text/plain": [
       "<Figure size 432x288 with 1 Axes>"
      ]
     },
     "metadata": {
      "needs_background": "light"
     },
     "output_type": "display_data"
    }
   ],
   "source": [
    "Fare = np.sort(train['Fare'].values)\n",
    "plt.plot(Fare)"
   ]
  },
  {
   "cell_type": "markdown",
   "metadata": {},
   "source": [
    "从上图可以看出，票价主要分布在 100 以内，划分 6 个段：\n",
    "\n",
    "```\n",
    "0  - 20\n",
    "20 - 40\n",
    "40 - 60\n",
    "60 - 80\n",
    "80 -\n",
    "```"
   ]
  },
  {
   "cell_type": "code",
   "execution_count": 12,
   "metadata": {},
   "outputs": [],
   "source": [
    "train['FareGroup'] = pd.cut(train['Fare'], bins=[0, 20, 40, 60, 80, np.inf] , labels=range(5))"
   ]
  },
  {
   "cell_type": "code",
   "execution_count": 13,
   "metadata": {},
   "outputs": [
    {
     "data": {
      "text/plain": [
       "<matplotlib.axes._subplots.AxesSubplot at 0x7fd13ccd20f0>"
      ]
     },
     "execution_count": 13,
     "metadata": {},
     "output_type": "execute_result"
    },
    {
     "data": {
      "image/png": "[encoded data removed]",
      "text/plain": [
       "<Figure size 432x288 with 1 Axes>"
      ]
     },
     "metadata": {
      "needs_background": "light"
     },
     "output_type": "display_data"
    }
   ],
   "source": [
    "sns.barplot(x='FareGroup', y='Survived', data=train)"
   ]
  },
  {
   "cell_type": "markdown",
   "metadata": {},
   "source": [
    "### Embarked\n",
    "\n",
    "泰坦尼克号行驶路线是从英国南安普敦出发，途经法国瑟堡奥克特维尔以及爱尔兰科夫，驶向美国纽约，乘客是从不同的港口登船的。Embarked 的取值有三种：\n",
    "\n",
    "- C (Cherbourg) 瑟堡（法国西北部港市）\n",
    "- Q (Queenstown) 昆斯敦（新西兰）\n",
    "- S (Southampton) 南安普敦（英国英格兰南部港市）\n",
    "\n",
    "感觉登船的位置和是否幸存没啥关系，但是统计了一下发现，不同地方登船的乘客，幸存率存在差异。我估计可能是登船港口和船舱位置有关。"
   ]
  },
  {
   "cell_type": "code",
   "execution_count": 14,
   "metadata": {},
   "outputs": [
    {
     "data": {
      "text/plain": [
       "<matplotlib.axes._subplots.AxesSubplot at 0x7fd13cc2eeb8>"
      ]
     },
     "execution_count": 14,
     "metadata": {},
     "output_type": "execute_result"
    },
    {
     "data": {
      "image/png": "[encoded data removed]",
      "text/plain": [
       "<Figure size 432x288 with 1 Axes>"
      ]
     },
     "metadata": {
      "needs_background": "light"
     },
     "output_type": "display_data"
    }
   ],
   "source": [
    "sns.barplot(x='Embarked',y='Survived',data=train)"
   ]
  },
  {
   "cell_type": "markdown",
   "metadata": {},
   "source": [
    "### SibSp 和 Parch\n",
    "\n",
    "兄弟姐妹数量（SibSp）和父母与孩子数量（Parch）可以统一称为家庭成员数量。家庭规模的大小，可能影响是否幸存。另外是否一个人独自乘船，也可能和幸存与否有关。"
   ]
  },
  {
   "cell_type": "code",
   "execution_count": 15,
   "metadata": {},
   "outputs": [],
   "source": [
    "train['FamilySize'] = train[['SibSp', 'Parch']].sum(axis=1) + 1 # 加上自己\n",
    "train['Alone'] = train['FamilySize'] == 1"
   ]
  },
  {
   "cell_type": "code",
   "execution_count": 16,
   "metadata": {},
   "outputs": [
    {
     "data": {
      "text/plain": [
       "<matplotlib.axes._subplots.AxesSubplot at 0x7fd138b11588>"
      ]
     },
     "execution_count": 16,
     "metadata": {},
     "output_type": "execute_result"
    },
    {
     "data": {
      "image/png": "[encoded data removed]",
      "text/plain": [
       "<Figure size 864x288 with 2 Axes>"
      ]
     },
     "metadata": {
      "needs_background": "light"
     },
     "output_type": "display_data"
    }
   ],
   "source": [
    "plt.figure(figsize=(12,4))\n",
    "plt.subplot(121)\n",
    "sns.barplot(x='FamilySize',y='Survived',data=train)\n",
    "plt.subplot(122)\n",
    "sns.barplot(x='Alone',y='Survived',data=train)"
   ]
  },
  {
   "cell_type": "markdown",
   "metadata": {},
   "source": [
    "家庭成员数量和幸存率有关，独自一人乘船幸存率较低。"
   ]
  },
  {
   "cell_type": "markdown",
   "metadata": {},
   "source": [
    "### Name\n",
    "\n",
    "姓名看似和幸存没有关系，但这里 Name 并不只是乘客的名字，还包含了头衔。比如 Mrs. Miss. 等，这能体现乘客的某些特征。这里可以将乘客的头衔抽取出来。"
   ]
  },
  {
   "cell_type": "code",
   "execution_count": 17,
   "metadata": {},
   "outputs": [
    {
     "data": {
      "text/plain": [
       "0                              Braund, Mr. Owen Harris\n",
       "1    Cumings, Mrs. John Bradley (Florence Briggs Th...\n",
       "2                               Heikkinen, Miss. Laina\n",
       "3         Futrelle, Mrs. Jacques Heath (Lily May Peel)\n",
       "4                             Allen, Mr. William Henry\n",
       "Name: Name, dtype: object"
      ]
     },
     "execution_count": 17,
     "metadata": {},
     "output_type": "execute_result"
    }
   ],
   "source": [
    "train['Name'].head()"
   ]
  },
  {
   "cell_type": "code",
   "execution_count": 18,
   "metadata": {},
   "outputs": [],
   "source": [
    "import re\n",
    "\n",
    "def get_title(name):\n",
    "    r_title = re.search(' ([A-Za-z]+)\\.', name)\n",
    "    if not r_title:\n",
    "        return \"\"\n",
    "    \n",
    "    return r_title.group(1)\n",
    "\n",
    "train['Title'] = train['Name'].apply(get_title)"
   ]
  },
  {
   "cell_type": "code",
   "execution_count": 19,
   "metadata": {},
   "outputs": [
    {
     "data": {
      "text/plain": [
       "Mr          517\n",
       "Miss        182\n",
       "Mrs         125\n",
       "Master       40\n",
       "Dr            7\n",
       "Rev           6\n",
       "Col           2\n",
       "Mlle          2\n",
       "Major         2\n",
       "Capt          1\n",
       "Don           1\n",
       "Sir           1\n",
       "Ms            1\n",
       "Jonkheer      1\n",
       "Countess      1\n",
       "Lady          1\n",
       "Mme           1\n",
       "Name: Title, dtype: int64"
      ]
     },
     "execution_count": 19,
     "metadata": {},
     "output_type": "execute_result"
    }
   ],
   "source": [
    "train['Title'].value_counts()"
   ]
  },
  {
   "cell_type": "markdown",
   "metadata": {},
   "source": [
    "可以把出现次数较少的头衔归为一个类别："
   ]
  },
  {
   "cell_type": "code",
   "execution_count": 20,
   "metadata": {},
   "outputs": [
    {
     "data": {
      "text/plain": [
       "Mr        517\n",
       "Miss      182\n",
       "Mrs       125\n",
       "Master     40\n",
       "Rare       27\n",
       "Name: Title, dtype: int64"
      ]
     },
     "execution_count": 20,
     "metadata": {},
     "output_type": "execute_result"
    }
   ],
   "source": [
    "rare_mask = train['Title'].isin(['Mr','Miss','Mrs','Master']) == False\n",
    "train['Title'][rare_mask] = 'Rare'\n",
    "train['Title'].value_counts()"
   ]
  },
  {
   "cell_type": "code",
   "execution_count": 21,
   "metadata": {},
   "outputs": [
    {
     "data": {
      "text/plain": [
       "<matplotlib.axes._subplots.AxesSubplot at 0x7fd13d110048>"
      ]
     },
     "execution_count": 21,
     "metadata": {},
     "output_type": "execute_result"
    },
    {
     "data": {
      "image/png": "[encoded data removed]",
      "text/plain": [
       "<Figure size 432x288 with 1 Axes>"
      ]
     },
     "metadata": {
      "needs_background": "light"
     },
     "output_type": "display_data"
    }
   ],
   "source": [
    "sns.barplot(x='Title', y='Survived', data=train)"
   ]
  },
  {
   "cell_type": "markdown",
   "metadata": {},
   "source": [
    "## 预处理数据\n",
    "\n",
    "之前的步骤中，对数据有了初步认识，了解了样本特征和问题的关联程度。接下来就需要对数据进行预处理，便于下一步训练分类模型。这包括一下几个步骤：\n",
    "\n",
    "1. 对缺失值进行填充\n",
    "2. 添加新的特征，比如是否独自乘船\n",
    "3. 对连续值，如年龄、票价，进行分段\n",
    "4. 将枚举值转换为 one-hot 编码的向量"
   ]
  },
  {
   "cell_type": "markdown",
   "metadata": {},
   "source": [
    "### 填充缺失值\n",
    "\n",
    "前面已经分析过，Age, Cabin, Embarked，Fare 三个属性存在缺失值。Cabin 是船舱号，此处抛弃这个属性。因此需要对 Age 和 Embarked 属性中缺失的值进行填充。\n",
    "\n",
    "**填充 Age**\n",
    "\n",
    "有 177 个乘客的详细年龄缺失，缺失比例还是很大的，需要想办法尽可能合理的对 Age 进行填充。"
   ]
  },
  {
   "cell_type": "code",
   "execution_count": 22,
   "metadata": {},
   "outputs": [
    {
     "data": {
      "text/plain": [
       "(177, 17)"
      ]
     },
     "execution_count": 22,
     "metadata": {},
     "output_type": "execute_result"
    }
   ],
   "source": [
    "train[np.isnan(train['Age'])].shape"
   ]
  },
  {
   "cell_type": "markdown",
   "metadata": {},
   "source": [
    "从乘客 Title 中，大致推断年龄。比如 Miss 应该是 20 岁左右的女士。这里根据乘客的 Title 对缺失年龄进行填充，使用正太分布随机数填充，各个 Title 对应的年龄均值和标准差可以使用 `describe()` 得到："
   ]
  },
  {
   "cell_type": "code",
   "execution_count": 23,
   "metadata": {},
   "outputs": [
    {
     "data": {
      "text/plain": [
       "{'Master': {'mean': 4.574166666666667, 'std': 3.6198716433439615},\n",
       " 'Miss': {'mean': 21.773972602739725, 'std': 12.99029242215268},\n",
       " 'Mr': {'mean': 32.368090452261306, 'std': 12.70879272257399},\n",
       " 'Mrs': {'mean': 35.898148148148145, 'std': 11.433627902196413},\n",
       " 'Rare': {'mean': 42.38461538461539, 'std': 13.200233098174964}}"
      ]
     },
     "execution_count": 23,
     "metadata": {},
     "output_type": "execute_result"
    }
   ],
   "source": [
    "mean_std_info = train.groupby('Title')['Age'].describe()[['mean','std']].T.to_dict()\n",
    "mean_std_info"
   ]
  },
  {
   "cell_type": "code",
   "execution_count": 24,
   "metadata": {},
   "outputs": [],
   "source": [
    "def fill_age(title):\n",
    "    mean = mean_std_info[title]['mean']\n",
    "    std = mean_std_info[title]['std']\n",
    "    return np.random.normal(mean, std)\n",
    "\n",
    "train['Age'][np.isnan(train['Age'])] = train['Title'][np.isnan(train['Age'])].apply(fill_age)"
   ]
  },
  {
   "cell_type": "markdown",
   "metadata": {},
   "source": [
    "**填充 Embarked**\n",
    "\n",
    "Embarked 只有 2 个存在缺失，那就直接使用出现最多的 S 来填充。"
   ]
  },
  {
   "cell_type": "code",
   "execution_count": 25,
   "metadata": {},
   "outputs": [
    {
     "name": "stdout",
     "output_type": "stream",
     "text": [
      "2\n"
     ]
    },
    {
     "data": {
      "text/plain": [
       "S    644\n",
       "C    168\n",
       "Q     77\n",
       "Name: Embarked, dtype: int64"
      ]
     },
     "execution_count": 25,
     "metadata": {},
     "output_type": "execute_result"
    }
   ],
   "source": [
    "print(train['Embarked'].isna().sum())\n",
    "train['Embarked'].value_counts()"
   ]
  },
  {
   "cell_type": "code",
   "execution_count": 26,
   "metadata": {},
   "outputs": [],
   "source": [
    "train['Embarked'].fillna('S', inplace=True)"
   ]
  },
  {
   "cell_type": "markdown",
   "metadata": {},
   "source": [
    "**填充 Fare**\n",
    "\n",
    "测试集中 Fare 存在一个缺失值，使用 Fare 的均值进行填充即可。"
   ]
  },
  {
   "cell_type": "code",
   "execution_count": 27,
   "metadata": {},
   "outputs": [],
   "source": [
    "test['Fare'].fillna(test['Fare'].mean(), inplace=True)"
   ]
  },
  {
   "cell_type": "markdown",
   "metadata": {},
   "source": [
    "### one-hot 编码\n",
    "\n",
    "经过上面的处理步骤后，每个乘客的属性都变成了枚举值，还需要在将其向量化。比如 Pclass 有 1,2,3 三种取值，但数字的大小并没有什么意义。不过在使用如 Logistics Regression 这样的线性模型时，因为模型要计算 `wx+b`，这样数字大小就有意义了。为此，在这里需要将所有枚举值转为 one-hot 编码的向量。\n",
    "\n",
    "```\n",
    "1 -> [1 0 0]\n",
    "2 -> [0 1 0]\n",
    "3 -> [0 0 1]\n",
    "```\n",
    "\n",
    "这样 Pclass 属性就使用一个三维的向量表示，其他的枚举属性也这样处理。\n",
    "\n",
    "对枚举值做 one-hot 编码，可以使用 pandas.du"
   ]
  },
  {
   "cell_type": "markdown",
   "metadata": {},
   "source": [
    "### 整合全部过程\n",
    "\n",
    "经过前面的分析，已经明确了下面几点：\n",
    "\n",
    "- 抛弃与保留那些属性\n",
    "- 对各个属性如何预处理\n",
    "- 新增那些属性\n",
    "- 对缺失值如何处理\n",
    "- 如何对枚举值进行编码\n",
    "\n",
    "我们需要将以上步骤整合起来，写在一个函数里。"
   ]
  },
  {
   "cell_type": "code",
   "execution_count": 28,
   "metadata": {},
   "outputs": [],
   "source": [
    "def process(dataset):\n",
    "    # 填充缺失值\n",
    "    dataset['Fare'].fillna(dataset['Fare'].mean(), inplace=True)\n",
    "    dataset['Embarked'].fillna('S', inplace=True)\n",
    "    \n",
    "    # 新增 Title\n",
    "    def get_title(name):\n",
    "        r_title = re.search(' ([A-Za-z]+)\\.', name)\n",
    "        if not r_title:\n",
    "            return \"\"\n",
    "        return r_title.group(1)\n",
    "    \n",
    "    dataset['Title'] = dataset['Name'].apply(get_title)\n",
    "    rare_mask = dataset['Title'].isin(['Mr','Miss','Mrs','Master']) == False\n",
    "    dataset['Title'][rare_mask] = 'Rare'\n",
    "    \n",
    "    # 填充缺失 Age\n",
    "    def fill_age(title):\n",
    "        mean = mean_std_info[title]['mean']\n",
    "        std = mean_std_info[title]['std']\n",
    "        return np.random.normal(mean, std)\n",
    "\n",
    "    dataset['Age'][np.isnan(dataset['Age'])] = dataset['Title'][np.isnan(dataset['Age'])].apply(fill_age)\n",
    "    \n",
    "    # 新增属性\n",
    "    dataset['AgeGroup'] = pd.cut(dataset['Age'], bins=[-np.inf, 15, 30, 45, 60, np.inf], labels=range(5))\n",
    "    dataset['FareGroup'] = pd.cut(dataset['Fare'], bins=[-np.inf, 20, 40, 60, 80, np.inf], labels=range(5))\n",
    "    dataset['FamilySize'] = dataset[['SibSp', 'Parch']].sum(axis=1) + 1\n",
    "    dataset['Alone'] = dataset['FamilySize'] == 1\n",
    "    \n",
    "    # 选择需要的属性\n",
    "    attrs = ['Pclass', 'Sex', 'Embarked', 'AgeGroup', 'FareGroup', 'FamilySize', 'Alone', 'Title']\n",
    "    dataset = dataset[attrs]\n",
    "\n",
    "    # 把数值型属性转为字符型，便于做 one-hot 编码\n",
    "    dataset[['Pclass', 'FamilySize']] = dataset[['Pclass', 'FamilySize']].astype(np.str)\n",
    "\n",
    "    return dataset\n",
    "    \n",
    "train_processed = process(train_clone)\n",
    "test_processed = process(test)"
   ]
  },
  {
   "cell_type": "code",
   "execution_count": 29,
   "metadata": {},
   "outputs": [
    {
     "name": "stdout",
     "output_type": "stream",
     "text": [
      "<class 'pandas.core.frame.DataFrame'>\n",
      "RangeIndex: 891 entries, 0 to 890\n",
      "Data columns (total 8 columns):\n",
      "Pclass        891 non-null object\n",
      "Sex           891 non-null object\n",
      "Embarked      891 non-null object\n",
      "AgeGroup      891 non-null category\n",
      "FareGroup     891 non-null category\n",
      "FamilySize    891 non-null object\n",
      "Alone         891 non-null bool\n",
      "Title         891 non-null object\n",
      "dtypes: bool(1), category(2), object(5)\n",
      "memory usage: 37.6+ KB\n",
      "None\n",
      "----------------------------------------\n",
      "<class 'pandas.core.frame.DataFrame'>\n",
      "RangeIndex: 418 entries, 0 to 417\n",
      "Data columns (total 8 columns):\n",
      "Pclass        418 non-null object\n",
      "Sex           418 non-null object\n",
      "Embarked      418 non-null object\n",
      "AgeGroup      418 non-null category\n",
      "FareGroup     418 non-null category\n",
      "FamilySize    418 non-null object\n",
      "Alone         418 non-null bool\n",
      "Title         418 non-null object\n",
      "dtypes: bool(1), category(2), object(5)\n",
      "memory usage: 17.8+ KB\n",
      "None\n"
     ]
    }
   ],
   "source": [
    "print(train_processed.info())\n",
    "print(\"-\" * 40)\n",
    "print(test_processed.info())"
   ]
  },
  {
   "cell_type": "markdown",
   "metadata": {},
   "source": [
    "### 得到训练数据\n",
    "\n",
    "前面的步骤中对填充了缺失数据，新增了部分属性，将连续值划分成了不同的段。但没有做 one-hot 编码。某个属性的值，可以在训练集中没有出现，但是出现在了测试集中。这个时候 one-hot 编码的时候，就会出现问题。所以在进行 one-hot 编码的时候，一定要知道能够应对这种问题。\n",
    "\n",
    "这里我将训练数据和测试数据合并起来，这样就能得知每个属性的所有可取值，然后利用 sklearn 的 `OneHotEncoder` 来完成 one-hot 编码。"
   ]
  },
  {
   "cell_type": "code",
   "execution_count": 31,
   "metadata": {},
   "outputs": [],
   "source": [
    "from sklearn.preprocessing import OneHotEncoder\n",
    "\n",
    "dataset = pd.concat([train_processed, test_processed], axis=0)\n",
    "\n",
    "one_hot = OneHotEncoder()\n",
    "one_hot.fit(dataset)\n",
    "\n",
    "X_train = one_hot.transform(train_processed)\n",
    "X_test = one_hot.transform(test_processed)\n",
    "\n",
    "y_train = train_clone['Survived'].values\n",
    "\n",
    "# 把训练数据打乱\n",
    "index = np.random.permutation(X_train.shape[0])\n",
    "X_train = X_train[index]\n",
    "y_train = y_train[index]"
   ]
  },
  {
   "cell_type": "markdown",
   "metadata": {},
   "source": [
    "## 训练分类器\n",
    "\n",
    "得到了训练数据之后，就可以开始训练模型了，这里一次性尝试多种常见分类器，使用默认的配置项。"
   ]
  },
  {
   "cell_type": "code",
   "execution_count": 32,
   "metadata": {},
   "outputs": [],
   "source": [
    "from sklearn.linear_model import LogisticRegression\n",
    "from sklearn.svm import SVC\n",
    "from sklearn.naive_bayes import BernoulliNB\n",
    "from sklearn.ensemble import RandomForestClassifier\n",
    "from sklearn.ensemble import AdaBoostClassifier\n",
    "from sklearn.ensemble import BaggingClassifier\n",
    "from sklearn.ensemble import ExtraTreesClassifier\n",
    "\n",
    "from sklearn.metrics import accuracy_score\n",
    "from sklearn.model_selection import cross_val_score"
   ]
  },
  {
   "cell_type": "code",
   "execution_count": 33,
   "metadata": {},
   "outputs": [],
   "source": [
    "svc = SVC()\n",
    "bnb = BernoulliNB()\n",
    "lrc = LogisticRegression()\n",
    "rfc = RandomForestClassifier(n_estimators=100, random_state=42)\n",
    "abc = AdaBoostClassifier(n_estimators=100, random_state=42)\n",
    "bc = BaggingClassifier(n_estimators=100, random_state=42)\n",
    "etc = ExtraTreesClassifier(n_estimators=100, random_state=42)\n",
    "\n",
    "clfs = [svc, bnb, lrc, rfc, abc, bc, etc]"
   ]
  },
  {
   "cell_type": "markdown",
   "metadata": {},
   "source": [
    "为了评估分类器的效果，一种做法是从训练数据中划出一部分数据作为验证集。不过为了得到较准确评估结果，往往需要多次划分训练集和验证集，取均值。sklearn 中的 `cross_val_score` 可以帮助我们完成此工作。"
   ]
  },
  {
   "cell_type": "code",
   "execution_count": 34,
   "metadata": {},
   "outputs": [
    {
     "name": "stdout",
     "output_type": "stream",
     "text": [
      "SVC - 82.15% - 0.27s\n",
      "BernoulliNB - 79.12% - 0.03s\n",
      "LogisticRegression - 81.70% - 0.03s\n",
      "RandomForestClassifier - 80.13% - 1.22s\n",
      "AdaBoostClassifier - 81.36% - 0.98s\n",
      "BaggingClassifier - 80.02% - 2.57s\n",
      "ExtraTreesClassifier - 80.02% - 1.13s\n"
     ]
    }
   ],
   "source": [
    "from time import time\n",
    "\n",
    "for clf in clfs:\n",
    "    start = time()\n",
    "    score = cross_val_score(clf, X_train, y_train, cv=5, scoring=\"accuracy\").mean()\n",
    "    duration = time() - start\n",
    "    clf_name = clf.__class__.__name__\n",
    "    \n",
    "    print(\"{} - {:.2%} - {:.2f}s\".format(clf_name, score, duration))"
   ]
  },
  {
   "cell_type": "markdown",
   "metadata": {},
   "source": [
    "从以上结果可以看出，除了朴素贝叶斯模型外，其他模型都能得到 81% 以上的准确度。下一步可以尝试对各个模型的参数进行调整，找出各个模型的最佳参数。"
   ]
  },
  {
   "cell_type": "markdown",
   "metadata": {},
   "source": [
    "### 优化模型参数\n",
    "\n",
    "这里以随机森林分类器为例，使用 GridSearch 来搜索最佳参数。"
   ]
  },
  {
   "cell_type": "code",
   "execution_count": 35,
   "metadata": {},
   "outputs": [],
   "source": [
    "from sklearn.model_selection import GridSearchCV\n",
    "\n",
    "random_forest = RandomForestClassifier()\n",
    "\n",
    "param_grid = [{\n",
    "    'n_estimators': [40, 50, 70, 100],\n",
    "    'max_depth': [3, 4, 5, 6, 8],\n",
    "    'min_samples_leaf': [1, 2, 3]\n",
    "}]\n",
    "\n",
    "grid_search = GridSearchCV(random_forest, param_grid, cv=5, scoring='accuracy', n_jobs=-1)\n",
    "\n",
    "_ = grid_search.fit(X_train, y_train)"
   ]
  },
  {
   "cell_type": "code",
   "execution_count": 36,
   "metadata": {},
   "outputs": [
    {
     "data": {
      "text/plain": [
       "(0.8282828282828283,\n",
       " {'max_depth': 5, 'min_samples_leaf': 3, 'n_estimators': 40})"
      ]
     },
     "execution_count": 36,
     "metadata": {},
     "output_type": "execute_result"
    }
   ],
   "source": [
    "grid_search.best_score_, grid_search.best_params_"
   ]
  },
  {
   "cell_type": "markdown",
   "metadata": {},
   "source": [
    "可以看到调优后的随机森林分类器得到了 82.9% 的最准确率。"
   ]
  },
  {
   "cell_type": "markdown",
   "metadata": {},
   "source": [
    "### 多分类器集成\n",
    "\n",
    "中国有谚语：“三个臭皮匠赛过诸葛亮”，对同一个样本多个分类器可能给出不同的预测结果，多个分类器投票觉得结果，往往更加可靠。因为每个分类器在分类的时候的依据往往是不同的，有的从空间上来划分，有的从概率分布上来决定。综合多种分类器的分类结果，常常能够取得更佳的效果。\n",
    "\n",
    "但是如果分类器都是同种类型的，这就相当于在投票的群体中有一部分是一伙的，他们常常倾向于给出相同的投票结果，因此在投票的时候应该避免使用同类的分类器。\n",
    "\n",
    "使用 sklearn 中 VotingClassifier 分类器，可以轻松完成这个投票过程："
   ]
  },
  {
   "cell_type": "code",
   "execution_count": 37,
   "metadata": {},
   "outputs": [
    {
     "data": {
      "text/plain": [
       "0.8282130175080601"
      ]
     },
     "execution_count": 37,
     "metadata": {},
     "output_type": "execute_result"
    }
   ],
   "source": [
    "from sklearn.ensemble import VotingClassifier\n",
    "\n",
    "svc = SVC(C=0.3, degree=2, kernel='linear', probability=True)\n",
    "lrc = LogisticRegression(C=0.8, penalty='l1')\n",
    "# rfc = RandomForestClassifier(n_estimators=40, max_depth=5)\n",
    "abc = AdaBoostClassifier(n_estimators=60)\n",
    "bc = BaggingClassifier(n_estimators=50, bootstrap_features=True, max_features=0.9, max_samples=0.9)\n",
    "# etc = ExtraTreesClassifier(n_estimators=100)\n",
    "\n",
    "clfs = [svc, lrc, abc, bc]\n",
    "\n",
    "eclf = VotingClassifier(estimators=[\n",
    "    (clf.__class__.__name__, clf) for clf in clfs\n",
    "], voting='hard')\n",
    "\n",
    "cross_val_score(eclf,  X_train, y_train, cv=5, n_jobs=-1).mean()"
   ]
  },
  {
   "cell_type": "markdown",
   "metadata": {},
   "source": [
    "分类器能够输出分类的概率，如果分类为正的概率为 0.9 就说明比较确信。如果分类为 0.5 则说明模棱两可。如果在某次决策中，其他分类器都给出了 0.49 的概率，只有一个分类器给出了 0.99 的概率。这说明在大家都不太确定的时候，其中有一个分类器非常确信，此次投票就可以听他的。\n",
    "\n",
    "这种策略就是软投票，将各个分类器输出的概率求均值，然后判断概率是否大于 0.5，大于就是正，否则为负。"
   ]
  },
  {
   "cell_type": "code",
   "execution_count": 38,
   "metadata": {},
   "outputs": [
    {
     "data": {
      "text/plain": [
       "0.8315901520221207"
      ]
     },
     "execution_count": 38,
     "metadata": {},
     "output_type": "execute_result"
    }
   ],
   "source": [
    "eclf = VotingClassifier(estimators=[\n",
    "    (clf.__class__.__name__, clf) for clf in clfs\n",
    "], voting='soft')\n",
    "\n",
    "cross_val_score(eclf,  X_train, y_train, cv=5, n_jobs=-1).mean()"
   ]
  },
  {
   "cell_type": "markdown",
   "metadata": {},
   "source": [
    "使用 `cross_val_score` 只是评估了模型的效果，它 clone 了原模型，并多次交叉验证。要得到可以进行预测的模型，需要使用全部的数据进行训练。"
   ]
  },
  {
   "cell_type": "code",
   "execution_count": 39,
   "metadata": {},
   "outputs": [
    {
     "data": {
      "text/plain": [
       "VotingClassifier(estimators=[('SVC', SVC(C=0.3, cache_size=200, class_weight=None, coef0=0.0,\n",
       "  decision_function_shape='ovr', degree=2, gamma='auto_deprecated',\n",
       "  kernel='linear', max_iter=-1, probability=True, random_state=None,\n",
       "  shrinking=True, tol=0.001, verbose=False)), ('LogisticRegression', LogisticRegressio...imators=50, n_jobs=None, oob_score=False, random_state=None,\n",
       "         verbose=0, warm_start=False))],\n",
       "         flatten_transform=None, n_jobs=None, voting='soft', weights=None)"
      ]
     },
     "execution_count": 39,
     "metadata": {},
     "output_type": "execute_result"
    }
   ],
   "source": [
    "eclf.fit(X_train, y_train)"
   ]
  },
  {
   "cell_type": "markdown",
   "metadata": {},
   "source": [
    "## 预测\n",
    "\n",
    "预测并保存结果，上传结果至 Kaggle。"
   ]
  },
  {
   "cell_type": "code",
   "execution_count": 40,
   "metadata": {},
   "outputs": [],
   "source": [
    "y_pred = eclf.predict(X_test)\n",
    "\n",
    "submission = pd.DataFrame({\n",
    "    \"PassengerId\": test['PassengerId'],\n",
    "    \"Survived\": y_pred\n",
    "})\n",
    "\n",
    "submission.to_csv(\"../data/titanic/submission.csv\", index=False)"
   ]
  },
  {
   "cell_type": "markdown",
   "metadata": {},
   "source": [
    "提交到 Kaggle 上之后得分 0.78947。"
   ]
  }
 ],
 "metadata": {
  "kernelspec": {
   "display_name": "Python 3",
   "language": "python",
   "name": "python3"
  },
  "language_info": {
   "codemirror_mode": {
    "name": "ipython",
    "version": 3
   },
   "file_extension": ".py",
   "mimetype": "text/x-python",
   "name": "python",
   "nbconvert_exporter": "python",
   "pygments_lexer": "ipython3",
   "version": "3.6.7"
  }
 },
 "nbformat": 4,
 "nbformat_minor": 4
}
